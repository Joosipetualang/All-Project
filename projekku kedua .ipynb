{
 "cells": [
  {
   "cell_type": "code",
   "execution_count": 1,
   "id": "b3a83e98",
   "metadata": {},
   "outputs": [
    {
     "name": "stderr",
     "output_type": "stream",
     "text": [
      "C:\\ProgramData\\Anaconda3\\lib\\site-packages\\scipy\\__init__.py:146: UserWarning: A NumPy version >=1.16.5 and <1.23.0 is required for this version of SciPy (detected version 1.23.4\n",
      "  warnings.warn(f\"A NumPy version >={np_minversion} and <{np_maxversion}\"\n"
     ]
    }
   ],
   "source": [
    "import numpy as np \n",
    "import pandas as pd \n",
    "import matplotlib.pyplot as plt\n",
    "import seaborn as sns\n",
    "from sklearn.cluster import DBSCAN\n",
    "from sklearn.datasets import make_blobs\n",
    "from sklearn.preprocessing import StandardScaler\n"
   ]
  },
  {
   "cell_type": "code",
   "execution_count": 2,
   "id": "e8efaf89",
   "metadata": {},
   "outputs": [],
   "source": [
    "uni = pd.read_csv('unicorns.csv')"
   ]
  },
  {
   "cell_type": "code",
   "execution_count": 3,
   "id": "da5ace23",
   "metadata": {},
   "outputs": [
    {
     "data": {
      "text/html": [
       "<div>\n",
       "<style scoped>\n",
       "    .dataframe tbody tr th:only-of-type {\n",
       "        vertical-align: middle;\n",
       "    }\n",
       "\n",
       "    .dataframe tbody tr th {\n",
       "        vertical-align: top;\n",
       "    }\n",
       "\n",
       "    .dataframe thead th {\n",
       "        text-align: right;\n",
       "    }\n",
       "</style>\n",
       "<table border=\"1\" class=\"dataframe\">\n",
       "  <thead>\n",
       "    <tr style=\"text-align: right;\">\n",
       "      <th></th>\n",
       "      <th>Updated at</th>\n",
       "      <th>Company</th>\n",
       "      <th>Crunchbase Url</th>\n",
       "      <th>Last Valuation (Billion $)</th>\n",
       "      <th>Date Joined</th>\n",
       "      <th>Year Joined</th>\n",
       "      <th>City</th>\n",
       "      <th>Country</th>\n",
       "      <th>Industry</th>\n",
       "      <th>Investors</th>\n",
       "      <th>Company Website</th>\n",
       "    </tr>\n",
       "  </thead>\n",
       "  <tbody>\n",
       "    <tr>\n",
       "      <th>0</th>\n",
       "      <td>10/31/2022, 2:37:05 AM</td>\n",
       "      <td>Esusu</td>\n",
       "      <td>https://www.cbinsights.com/company/esusu</td>\n",
       "      <td>1.0</td>\n",
       "      <td>1/27/2022</td>\n",
       "      <td>2022</td>\n",
       "      <td>New York</td>\n",
       "      <td>United States</td>\n",
       "      <td>Fintech</td>\n",
       "      <td>[\"Next Play Ventures\",\"Zeal Capital Partners\",...</td>\n",
       "      <td>NaN</td>\n",
       "    </tr>\n",
       "    <tr>\n",
       "      <th>1</th>\n",
       "      <td>10/31/2022, 2:37:05 AM</td>\n",
       "      <td>Fever Labs</td>\n",
       "      <td>https://www.cbinsights.com/company/fever-labs</td>\n",
       "      <td>1.0</td>\n",
       "      <td>1/26/2022</td>\n",
       "      <td>2022</td>\n",
       "      <td>New York</td>\n",
       "      <td>United States</td>\n",
       "      <td>Internet software &amp; services</td>\n",
       "      <td>[\"Accel\",\"14W\",\"GS Growth\"]</td>\n",
       "      <td>NaN</td>\n",
       "    </tr>\n",
       "    <tr>\n",
       "      <th>2</th>\n",
       "      <td>10/31/2022, 2:37:04 AM</td>\n",
       "      <td>Minio</td>\n",
       "      <td>https://www.cbinsights.com/company/minio</td>\n",
       "      <td>1.0</td>\n",
       "      <td>1/26/2022</td>\n",
       "      <td>2022</td>\n",
       "      <td>Palo Alto</td>\n",
       "      <td>United States</td>\n",
       "      <td>Data management &amp; analytics</td>\n",
       "      <td>[\"General Catalyst\",\"Nexus Venture Partners\",\"...</td>\n",
       "      <td>NaN</td>\n",
       "    </tr>\n",
       "    <tr>\n",
       "      <th>3</th>\n",
       "      <td>10/31/2022, 2:37:04 AM</td>\n",
       "      <td>Darwinbox</td>\n",
       "      <td>https://www.cbinsights.com/company/darwinbox</td>\n",
       "      <td>1.0</td>\n",
       "      <td>1/25/2022</td>\n",
       "      <td>2022</td>\n",
       "      <td>Hyderabad</td>\n",
       "      <td>India</td>\n",
       "      <td>Internet software &amp; services</td>\n",
       "      <td>[\"Lightspeed India Partners\",\"Sequoia Capital ...</td>\n",
       "      <td>NaN</td>\n",
       "    </tr>\n",
       "    <tr>\n",
       "      <th>4</th>\n",
       "      <td>10/31/2022, 2:37:04 AM</td>\n",
       "      <td>Pentera</td>\n",
       "      <td>https://www.cbinsights.com/company/pcysys</td>\n",
       "      <td>1.0</td>\n",
       "      <td>1/11/2022</td>\n",
       "      <td>2022</td>\n",
       "      <td>Petah Tikva</td>\n",
       "      <td>Israel</td>\n",
       "      <td>Cybersecurity</td>\n",
       "      <td>[\"AWZ Ventures\",\"Blackstone\",\"Insight Partners\"]</td>\n",
       "      <td>NaN</td>\n",
       "    </tr>\n",
       "  </tbody>\n",
       "</table>\n",
       "</div>"
      ],
      "text/plain": [
       "               Updated at     Company  \\\n",
       "0  10/31/2022, 2:37:05 AM       Esusu   \n",
       "1  10/31/2022, 2:37:05 AM  Fever Labs   \n",
       "2  10/31/2022, 2:37:04 AM       Minio   \n",
       "3  10/31/2022, 2:37:04 AM   Darwinbox   \n",
       "4  10/31/2022, 2:37:04 AM     Pentera   \n",
       "\n",
       "                                  Crunchbase Url  Last Valuation (Billion $)  \\\n",
       "0       https://www.cbinsights.com/company/esusu                         1.0   \n",
       "1  https://www.cbinsights.com/company/fever-labs                         1.0   \n",
       "2       https://www.cbinsights.com/company/minio                         1.0   \n",
       "3   https://www.cbinsights.com/company/darwinbox                         1.0   \n",
       "4      https://www.cbinsights.com/company/pcysys                         1.0   \n",
       "\n",
       "  Date Joined  Year Joined         City        Country  \\\n",
       "0   1/27/2022         2022     New York  United States   \n",
       "1   1/26/2022         2022     New York  United States   \n",
       "2   1/26/2022         2022    Palo Alto  United States   \n",
       "3   1/25/2022         2022    Hyderabad          India   \n",
       "4   1/11/2022         2022  Petah Tikva         Israel   \n",
       "\n",
       "                       Industry  \\\n",
       "0                       Fintech   \n",
       "1  Internet software & services   \n",
       "2   Data management & analytics   \n",
       "3  Internet software & services   \n",
       "4                Cybersecurity    \n",
       "\n",
       "                                           Investors  Company Website  \n",
       "0  [\"Next Play Ventures\",\"Zeal Capital Partners\",...              NaN  \n",
       "1                        [\"Accel\",\"14W\",\"GS Growth\"]              NaN  \n",
       "2  [\"General Catalyst\",\"Nexus Venture Partners\",\"...              NaN  \n",
       "3  [\"Lightspeed India Partners\",\"Sequoia Capital ...              NaN  \n",
       "4   [\"AWZ Ventures\",\"Blackstone\",\"Insight Partners\"]              NaN  "
      ]
     },
     "execution_count": 3,
     "metadata": {},
     "output_type": "execute_result"
    }
   ],
   "source": [
    "uni.head()"
   ]
  },
  {
   "cell_type": "code",
   "execution_count": 4,
   "id": "298ede30",
   "metadata": {},
   "outputs": [
    {
     "data": {
      "text/html": [
       "<div>\n",
       "<style scoped>\n",
       "    .dataframe tbody tr th:only-of-type {\n",
       "        vertical-align: middle;\n",
       "    }\n",
       "\n",
       "    .dataframe tbody tr th {\n",
       "        vertical-align: top;\n",
       "    }\n",
       "\n",
       "    .dataframe thead th {\n",
       "        text-align: right;\n",
       "    }\n",
       "</style>\n",
       "<table border=\"1\" class=\"dataframe\">\n",
       "  <thead>\n",
       "    <tr style=\"text-align: right;\">\n",
       "      <th></th>\n",
       "      <th>Last Valuation (Billion $)</th>\n",
       "      <th>Year Joined</th>\n",
       "      <th>Company Website</th>\n",
       "    </tr>\n",
       "  </thead>\n",
       "  <tbody>\n",
       "    <tr>\n",
       "      <th>count</th>\n",
       "      <td>1199.000000</td>\n",
       "      <td>1199.000000</td>\n",
       "      <td>0.0</td>\n",
       "    </tr>\n",
       "    <tr>\n",
       "      <th>mean</th>\n",
       "      <td>3.225588</td>\n",
       "      <td>2020.158465</td>\n",
       "      <td>NaN</td>\n",
       "    </tr>\n",
       "    <tr>\n",
       "      <th>std</th>\n",
       "      <td>7.601195</td>\n",
       "      <td>1.981949</td>\n",
       "      <td>NaN</td>\n",
       "    </tr>\n",
       "    <tr>\n",
       "      <th>min</th>\n",
       "      <td>1.000000</td>\n",
       "      <td>2007.000000</td>\n",
       "      <td>NaN</td>\n",
       "    </tr>\n",
       "    <tr>\n",
       "      <th>25%</th>\n",
       "      <td>1.100000</td>\n",
       "      <td>2019.000000</td>\n",
       "      <td>NaN</td>\n",
       "    </tr>\n",
       "    <tr>\n",
       "      <th>50%</th>\n",
       "      <td>1.570000</td>\n",
       "      <td>2021.000000</td>\n",
       "      <td>NaN</td>\n",
       "    </tr>\n",
       "    <tr>\n",
       "      <th>75%</th>\n",
       "      <td>3.000000</td>\n",
       "      <td>2021.000000</td>\n",
       "      <td>NaN</td>\n",
       "    </tr>\n",
       "    <tr>\n",
       "      <th>max</th>\n",
       "      <td>140.000000</td>\n",
       "      <td>2022.000000</td>\n",
       "      <td>NaN</td>\n",
       "    </tr>\n",
       "  </tbody>\n",
       "</table>\n",
       "</div>"
      ],
      "text/plain": [
       "       Last Valuation (Billion $)  Year Joined  Company Website\n",
       "count                 1199.000000  1199.000000              0.0\n",
       "mean                     3.225588  2020.158465              NaN\n",
       "std                      7.601195     1.981949              NaN\n",
       "min                      1.000000  2007.000000              NaN\n",
       "25%                      1.100000  2019.000000              NaN\n",
       "50%                      1.570000  2021.000000              NaN\n",
       "75%                      3.000000  2021.000000              NaN\n",
       "max                    140.000000  2022.000000              NaN"
      ]
     },
     "execution_count": 4,
     "metadata": {},
     "output_type": "execute_result"
    }
   ],
   "source": [
    "uni.describe()"
   ]
  },
  {
   "cell_type": "code",
   "execution_count": 5,
   "id": "d5ad7af5",
   "metadata": {},
   "outputs": [
    {
     "name": "stdout",
     "output_type": "stream",
     "text": [
      "<class 'pandas.core.frame.DataFrame'>\n",
      "RangeIndex: 1199 entries, 0 to 1198\n",
      "Data columns (total 11 columns):\n",
      " #   Column                      Non-Null Count  Dtype  \n",
      "---  ------                      --------------  -----  \n",
      " 0   Updated at                  1199 non-null   object \n",
      " 1   Company                     1199 non-null   object \n",
      " 2   Crunchbase Url              1199 non-null   object \n",
      " 3   Last Valuation (Billion $)  1199 non-null   float64\n",
      " 4   Date Joined                 1199 non-null   object \n",
      " 5   Year Joined                 1199 non-null   int64  \n",
      " 6   City                        1181 non-null   object \n",
      " 7   Country                     1199 non-null   object \n",
      " 8   Industry                    1199 non-null   object \n",
      " 9   Investors                   1199 non-null   object \n",
      " 10  Company Website             0 non-null      float64\n",
      "dtypes: float64(2), int64(1), object(8)\n",
      "memory usage: 103.2+ KB\n"
     ]
    }
   ],
   "source": [
    "uni.info()"
   ]
  },
  {
   "cell_type": "code",
   "execution_count": 6,
   "id": "fb4cc774",
   "metadata": {},
   "outputs": [
    {
     "name": "stdout",
     "output_type": "stream",
     "text": [
      "                  Updated at     Company  \\\n",
      "0     10/31/2022, 2:37:05 AM       Esusu   \n",
      "1     10/31/2022, 2:37:05 AM  Fever Labs   \n",
      "2     10/31/2022, 2:37:04 AM       Minio   \n",
      "3     10/31/2022, 2:37:04 AM   Darwinbox   \n",
      "4     10/31/2022, 2:37:04 AM     Pentera   \n",
      "...                      ...         ...   \n",
      "1194  10/31/2022, 2:32:42 AM    Fanatics   \n",
      "1195  10/31/2022, 2:32:38 AM      SpaceX   \n",
      "1196  10/31/2022, 2:33:10 AM  Vice Media   \n",
      "1197  10/31/2022, 2:33:05 AM      Klarna   \n",
      "1198  10/31/2022, 2:35:27 AM      Veepee   \n",
      "\n",
      "                                         Crunchbase Url  \\\n",
      "0              https://www.cbinsights.com/company/esusu   \n",
      "1         https://www.cbinsights.com/company/fever-labs   \n",
      "2              https://www.cbinsights.com/company/minio   \n",
      "3          https://www.cbinsights.com/company/darwinbox   \n",
      "4             https://www.cbinsights.com/company/pcysys   \n",
      "...                                                 ...   \n",
      "1194        https://www.cbinsights.com/company/fanatics   \n",
      "1195  https://www.cbinsights.com/company/space-explo...   \n",
      "1196      https://www.cbinsights.com/company/vice-media   \n",
      "1197          https://www.cbinsights.com/company/klarna   \n",
      "1198    https://www.cbinsights.com/company/vente-privee   \n",
      "\n",
      "      Last Valuation (Billion $) Date Joined  Year Joined  \\\n",
      "0                           1.00   1/27/2022         2022   \n",
      "1                           1.00   1/26/2022         2022   \n",
      "2                           1.00   1/26/2022         2022   \n",
      "3                           1.00   1/25/2022         2022   \n",
      "4                           1.00   1/11/2022         2022   \n",
      "...                          ...         ...          ...   \n",
      "1194                       27.00    6/6/2012         2012   \n",
      "1195                      127.00   12/1/2012         2012   \n",
      "1196                        5.70    4/2/2011         2011   \n",
      "1197                        6.70  12/12/2011         2011   \n",
      "1198                        1.38    7/2/2007         2007   \n",
      "\n",
      "                       City        Country                         Industry  \\\n",
      "0                  New York  United States                          Fintech   \n",
      "1                  New York  United States     Internet software & services   \n",
      "2                 Palo Alto  United States      Data management & analytics   \n",
      "3                 Hyderabad          India     Internet software & services   \n",
      "4               Petah Tikva         Israel                   Cybersecurity    \n",
      "...                     ...            ...                              ...   \n",
      "1194           Jacksonville  United States  E-commerce & direct-to-consumer   \n",
      "1195              Hawthorne  United States                            Other   \n",
      "1196               Brooklyn  United States     Internet software & services   \n",
      "1197              Stockholm         Sweden                          Fintech   \n",
      "1198  La Plaine Saint-Denis         France  E-commerce & direct-to-consumer   \n",
      "\n",
      "                                              Investors  Company Website  \n",
      "0     [\"Next Play Ventures\",\"Zeal Capital Partners\",...              NaN  \n",
      "1                           [\"Accel\",\"14W\",\"GS Growth\"]              NaN  \n",
      "2     [\"General Catalyst\",\"Nexus Venture Partners\",\"...              NaN  \n",
      "3     [\"Lightspeed India Partners\",\"Sequoia Capital ...              NaN  \n",
      "4      [\"AWZ Ventures\",\"Blackstone\",\"Insight Partners\"]              NaN  \n",
      "...                                                 ...              ...  \n",
      "1194  [\"SoftBank Group\",\"Andreessen Horowitz\",\"Temas...              NaN  \n",
      "1195  [\"Founders Fund\",\"Draper Fisher Jurvetson\",\"Ro...              NaN  \n",
      "1196  [\"Technology Crossover Ventures\",\"A&E Televisi...              NaN  \n",
      "1197  [\"Institutional Venture Partners\",\"Sequoia Cap...              NaN  \n",
      "1198                [\"Summit Partners\",\"Qatar Holding\"]              NaN  \n",
      "\n",
      "[1199 rows x 11 columns]\n"
     ]
    }
   ],
   "source": [
    "uni.fillna(uni.mean(numeric_only=True).round(1), inplace=True)\n",
    "\n",
    "#For median:\n",
    "uni.fillna(uni.median(numeric_only=True).round(1), inplace=True)\n",
    "\n",
    "print(uni)"
   ]
  },
  {
   "cell_type": "markdown",
   "id": "5569cb15",
   "metadata": {},
   "source": [
    "# outliers"
   ]
  },
  {
   "cell_type": "code",
   "execution_count": 7,
   "id": "4c3260b9",
   "metadata": {},
   "outputs": [
    {
     "name": "stderr",
     "output_type": "stream",
     "text": [
      "C:\\ProgramData\\Anaconda3\\lib\\site-packages\\seaborn\\_decorators.py:36: FutureWarning: Pass the following variable as a keyword arg: x. From version 0.12, the only valid positional argument will be `data`, and passing other arguments without an explicit keyword will result in an error or misinterpretation.\n",
      "  warnings.warn(\n"
     ]
    },
    {
     "data": {
      "text/plain": [
       "<AxesSubplot:xlabel='Last Valuation (Billion $)'>"
      ]
     },
     "execution_count": 7,
     "metadata": {},
     "output_type": "execute_result"
    },
    {
     "data": {
      "image/png": "[encoded data removed]",
      "text/plain": [
       "<Figure size 432x288 with 1 Axes>"
      ]
     },
     "metadata": {
      "needs_background": "light"
     },
     "output_type": "display_data"
    }
   ],
   "source": [
    "sns.boxplot(uni['Last Valuation (Billion $)'])"
   ]
  },
  {
   "cell_type": "code",
   "execution_count": 8,
   "id": "49a1e863",
   "metadata": {},
   "outputs": [
    {
     "name": "stdout",
     "output_type": "stream",
     "text": [
      "(array([ 246,  764,  765,  766,  767,  768,  769,  770,  771,  772,  773,\n",
      "        774,  877,  878,  879,  880,  977,  978,  979,  980,  981,  982,\n",
      "       1067, 1068, 1069, 1070, 1071, 1072, 1073, 1074, 1075, 1076, 1077,\n",
      "       1078, 1079, 1118, 1119, 1120, 1121, 1141, 1142, 1176, 1187, 1188,\n",
      "       1194, 1195], dtype=int64),)\n"
     ]
    }
   ],
   "source": [
    "print(np.where(uni['Last Valuation (Billion $)']>10))"
   ]
  },
  {
   "cell_type": "code",
   "execution_count": 9,
   "id": "aa3e2c44",
   "metadata": {},
   "outputs": [
    {
     "name": "stdout",
     "output_type": "stream",
     "text": [
      "Old Shape:  (1199, 11)\n",
      "New Shape:  (1081, 11)\n"
     ]
    },
    {
     "name": "stderr",
     "output_type": "stream",
     "text": [
      "C:\\Users\\User\\AppData\\Local\\Temp\\ipykernel_52580\\2844036646.py:1: DeprecationWarning: the `interpolation=` argument to percentile was renamed to `method=`, which has additional options.\n",
      "Users of the modes 'nearest', 'lower', 'higher', or 'midpoint' are encouraged to review the method they used. (Deprecated NumPy 1.22)\n",
      "  Q1 = np.percentile(uni['Last Valuation (Billion $)'], 25,\n",
      "C:\\Users\\User\\AppData\\Local\\Temp\\ipykernel_52580\\2844036646.py:4: DeprecationWarning: the `interpolation=` argument to percentile was renamed to `method=`, which has additional options.\n",
      "Users of the modes 'nearest', 'lower', 'higher', or 'midpoint' are encouraged to review the method they used. (Deprecated NumPy 1.22)\n",
      "  Q3 = np.percentile(uni['Last Valuation (Billion $)'], 75,\n"
     ]
    }
   ],
   "source": [
    "Q1 = np.percentile(uni['Last Valuation (Billion $)'], 25,\n",
    "                   interpolation = 'midpoint')\n",
    " \n",
    "Q3 = np.percentile(uni['Last Valuation (Billion $)'], 75,\n",
    "                   interpolation = 'midpoint')\n",
    "IQR = Q3 - Q1\n",
    " \n",
    "print(\"Old Shape: \", uni.shape)\n",
    " \n",
    "# Upper bound\n",
    "upper = np.where(uni['Last Valuation (Billion $)'] >= (Q3+1.5*IQR))\n",
    "# Lower bound\n",
    "lower = np.where(uni['Last Valuation (Billion $)'] <= (Q1-1.5*IQR))\n",
    " \n",
    "''' Removing the Outliers '''\n",
    "uni.drop(upper[0], inplace = True)\n",
    "uni.drop(lower[0], inplace = True)\n",
    " \n",
    "print(\"New Shape: \", uni.shape)"
   ]
  },
  {
   "cell_type": "code",
   "execution_count": 10,
   "id": "056e9114",
   "metadata": {},
   "outputs": [
    {
     "name": "stderr",
     "output_type": "stream",
     "text": [
      "C:\\ProgramData\\Anaconda3\\lib\\site-packages\\seaborn\\_decorators.py:36: FutureWarning: Pass the following variable as a keyword arg: x. From version 0.12, the only valid positional argument will be `data`, and passing other arguments without an explicit keyword will result in an error or misinterpretation.\n",
      "  warnings.warn(\n"
     ]
    },
    {
     "data": {
      "text/plain": [
       "<AxesSubplot:xlabel='Last Valuation (Billion $)'>"
      ]
     },
     "execution_count": 10,
     "metadata": {},
     "output_type": "execute_result"
    },
    {
     "data": {
      "image/png": "[encoded data removed]",
      "text/plain": [
       "<Figure size 432x288 with 1 Axes>"
      ]
     },
     "metadata": {
      "needs_background": "light"
     },
     "output_type": "display_data"
    }
   ],
   "source": [
    "sns.boxplot(uni['Last Valuation (Billion $)'])"
   ]
  },
  {
   "cell_type": "code",
   "execution_count": 11,
   "id": "a7934b3d",
   "metadata": {},
   "outputs": [
    {
     "name": "stdout",
     "output_type": "stream",
     "text": [
      "(array([ 241,  242,  243,  244,  724,  725,  726,  727,  728,  729,  730,\n",
      "        731,  732,  733,  734,  735,  736,  737,  738,  739,  740,  741,\n",
      "        742,  743,  744,  821,  822,  823,  824,  825,  826,  827,  828,\n",
      "        829,  901,  902,  903,  904,  905,  906,  907,  908,  909,  910,\n",
      "        911,  912,  980,  981,  982, 1018, 1034, 1036, 1079], dtype=int64),)\n"
     ]
    }
   ],
   "source": [
    "print(np.where(uni['Last Valuation (Billion $)']>4.5))"
   ]
  },
  {
   "cell_type": "code",
   "execution_count": 12,
   "id": "8e7dc0c9",
   "metadata": {},
   "outputs": [
    {
     "name": "stdout",
     "output_type": "stream",
     "text": [
      "<class 'pandas.core.frame.DataFrame'>\n",
      "Int64Index: 1081 entries, 0 to 1198\n",
      "Data columns (total 11 columns):\n",
      " #   Column                      Non-Null Count  Dtype  \n",
      "---  ------                      --------------  -----  \n",
      " 0   Updated at                  1081 non-null   object \n",
      " 1   Company                     1081 non-null   object \n",
      " 2   Crunchbase Url              1081 non-null   object \n",
      " 3   Last Valuation (Billion $)  1081 non-null   float64\n",
      " 4   Date Joined                 1081 non-null   object \n",
      " 5   Year Joined                 1081 non-null   int64  \n",
      " 6   City                        1064 non-null   object \n",
      " 7   Country                     1081 non-null   object \n",
      " 8   Industry                    1081 non-null   object \n",
      " 9   Investors                   1081 non-null   object \n",
      " 10  Company Website             0 non-null      float64\n",
      "dtypes: float64(2), int64(1), object(8)\n",
      "memory usage: 101.3+ KB\n"
     ]
    }
   ],
   "source": [
    "uni.info()\n"
   ]
  },
  {
   "cell_type": "code",
   "execution_count": 13,
   "id": "6bce1de5",
   "metadata": {},
   "outputs": [
    {
     "data": {
      "text/html": [
       "<div>\n",
       "<style scoped>\n",
       "    .dataframe tbody tr th:only-of-type {\n",
       "        vertical-align: middle;\n",
       "    }\n",
       "\n",
       "    .dataframe tbody tr th {\n",
       "        vertical-align: top;\n",
       "    }\n",
       "\n",
       "    .dataframe thead th {\n",
       "        text-align: right;\n",
       "    }\n",
       "</style>\n",
       "<table border=\"1\" class=\"dataframe\">\n",
       "  <thead>\n",
       "    <tr style=\"text-align: right;\">\n",
       "      <th></th>\n",
       "      <th>Last Valuation (Billion $)</th>\n",
       "      <th>Year Joined</th>\n",
       "      <th>Company Website</th>\n",
       "    </tr>\n",
       "  </thead>\n",
       "  <tbody>\n",
       "    <tr>\n",
       "      <th>Last Valuation (Billion $)</th>\n",
       "      <td>1.000000</td>\n",
       "      <td>-0.121249</td>\n",
       "      <td>NaN</td>\n",
       "    </tr>\n",
       "    <tr>\n",
       "      <th>Year Joined</th>\n",
       "      <td>-0.121249</td>\n",
       "      <td>1.000000</td>\n",
       "      <td>NaN</td>\n",
       "    </tr>\n",
       "    <tr>\n",
       "      <th>Company Website</th>\n",
       "      <td>NaN</td>\n",
       "      <td>NaN</td>\n",
       "      <td>NaN</td>\n",
       "    </tr>\n",
       "  </tbody>\n",
       "</table>\n",
       "</div>"
      ],
      "text/plain": [
       "                            Last Valuation (Billion $)  Year Joined  \\\n",
       "Last Valuation (Billion $)                    1.000000    -0.121249   \n",
       "Year Joined                                  -0.121249     1.000000   \n",
       "Company Website                                    NaN          NaN   \n",
       "\n",
       "                            Company Website  \n",
       "Last Valuation (Billion $)              NaN  \n",
       "Year Joined                             NaN  \n",
       "Company Website                         NaN  "
      ]
     },
     "execution_count": 13,
     "metadata": {},
     "output_type": "execute_result"
    }
   ],
   "source": [
    "corr = uni.corr()\n",
    "corr"
   ]
  },
  {
   "cell_type": "code",
   "execution_count": null,
   "id": "ddb6f5d7",
   "metadata": {},
   "outputs": [],
   "source": []
  }
 ],
 "metadata": {
  "kernelspec": {
   "display_name": "Python 3 (ipykernel)",
   "language": "python",
   "name": "python3"
  },
  "language_info": {
   "codemirror_mode": {
    "name": "ipython",
    "version": 3
   },
   "file_extension": ".py",
   "mimetype": "text/x-python",
   "name": "python",
   "nbconvert_exporter": "python",
   "pygments_lexer": "ipython3",
   "version": "3.9.12"
  }
 },
 "nbformat": 4,
 "nbformat_minor": 5
}
