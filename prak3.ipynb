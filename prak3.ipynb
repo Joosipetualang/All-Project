{
 "cells": [
  {
   "cell_type": "code",
   "execution_count": 1,
   "id": "42127559",
   "metadata": {},
   "outputs": [
    {
     "name": "stdout",
     "output_type": "stream",
     "text": [
      "Hello World\n"
     ]
    }
   ],
   "source": [
    "print(\"Hello World\")"
   ]
  },
  {
   "cell_type": "code",
   "execution_count": 4,
   "id": "86d5ff42",
   "metadata": {},
   "outputs": [
    {
     "name": "stdout",
     "output_type": "stream",
     "text": [
      "Addition:  20\n",
      "Substractions 12\n",
      "Multiplications 64\n",
      "Division:  4.0\n",
      "Modulus:  0\n",
      "Exponent:  65536\n",
      "Floor Division:  4\n"
     ]
    }
   ],
   "source": [
    "x=16\n",
    "y=4\n",
    "\n",
    "print('Addition: ', x+y)\n",
    "\n",
    "print('Substractions' , x-y)\n",
    "\n",
    "print('Multiplications',x*y)\n",
    "\n",
    "print('Division: ',x/y)\n",
    "\n",
    "print('Modulus: ', x%y)\n",
    "\n",
    "print('Exponent: ',x**y)\n",
    "\n",
    "print('Floor Division: ',x//y)"
   ]
  },
  {
   "cell_type": "code",
   "execution_count": 6,
   "id": "bf8b6fde",
   "metadata": {},
   "outputs": [],
   "source": [
    "mylist =[\"apple\",\"banana\",\"cherry\"]\n"
   ]
  },
  {
   "cell_type": "code",
   "execution_count": 7,
   "id": "71dd028a",
   "metadata": {},
   "outputs": [
    {
     "name": "stdout",
     "output_type": "stream",
     "text": [
      "['apple', 'banana', 'cherry', 'apple', 'manggo']\n"
     ]
    }
   ],
   "source": [
    "thislist = [\"apple\",\"banana\",\"cherry\",\"apple\",\"manggo\"]\n",
    "print(thislist)"
   ]
  },
  {
   "cell_type": "code",
   "execution_count": 8,
   "id": "e81e04b4",
   "metadata": {},
   "outputs": [],
   "source": [
    "list1 =[ \"apple\",\"banana\",\"cherry\"]\n",
    "list2 =[ 1,5,7,9,3]\n",
    "list =[True,False,False]"
   ]
  },
  {
   "cell_type": "code",
   "execution_count": 9,
   "id": "f7bc2a11",
   "metadata": {},
   "outputs": [
    {
     "data": {
      "text/plain": [
       "['abc', 34, True, 40, 'male']"
      ]
     },
     "execution_count": 9,
     "metadata": {},
     "output_type": "execute_result"
    }
   ],
   "source": [
    "list1 = [\"abc\",34,True,40,\"male\"]\n",
    "list1"
   ]
  },
  {
   "cell_type": "code",
   "execution_count": 11,
   "id": "dc169182",
   "metadata": {},
   "outputs": [
    {
     "name": "stdout",
     "output_type": "stream",
     "text": [
      "cherry\n"
     ]
    }
   ],
   "source": [
    "inilist = [\"apple\",\"banana\",\"cherry\"]\n",
    "print(inilist[-1])"
   ]
  },
  {
   "cell_type": "code",
   "execution_count": 13,
   "id": "c858a91f",
   "metadata": {},
   "outputs": [
    {
     "name": "stdout",
     "output_type": "stream",
     "text": [
      "['banana', 'cherry', 'apple']\n"
     ]
    }
   ],
   "source": [
    "listbaru =[\"pear\",\"apple\",\"banana\",\"cherry\",\"apple\",\"manggo\"]\n",
    "print(listbaru[2:5])"
   ]
  },
  {
   "cell_type": "code",
   "execution_count": 14,
   "id": "550d0cd2",
   "metadata": {},
   "outputs": [
    {
     "name": "stdout",
     "output_type": "stream",
     "text": [
      "['banana', 'cherry', 'apple', 'manggo']\n"
     ]
    }
   ],
   "source": [
    "listbarubaru =[\"pear\",\"apple\",\"banana\",\"cherry\",\"apple\",\"manggo\"]\n",
    "print(listbarubaru[2:])"
   ]
  },
  {
   "cell_type": "code",
   "execution_count": 15,
   "id": "8473ddb9",
   "metadata": {},
   "outputs": [
    {
     "name": "stdout",
     "output_type": "stream",
     "text": [
      "yap, ada apple di listbarubaru\n"
     ]
    }
   ],
   "source": [
    "listbarubaru =[\"pear\",\"apple\",\"banana\",\"cherry\",\"apple\",\"manggo\"]\n",
    "if \"apple\" in listbarubaru:\n",
    "    print(\"yap, ada apple di listbarubaru\")"
   ]
  },
  {
   "cell_type": "code",
   "execution_count": 17,
   "id": "d09ac809",
   "metadata": {},
   "outputs": [
    {
     "name": "stdout",
     "output_type": "stream",
     "text": [
      "['apple', 'grape', 'cherry']\n"
     ]
    }
   ],
   "source": [
    "inilist = [\"apple\",\"banana\",\"cherry\"]\n",
    "inilist[1] = \"grape\"\n",
    "print(inilist)"
   ]
  },
  {
   "cell_type": "code",
   "execution_count": 18,
   "id": "96ec4768",
   "metadata": {},
   "outputs": [
    {
     "name": "stdout",
     "output_type": "stream",
     "text": [
      "['apple', 'banana', 'semangka', 'cherry']\n"
     ]
    }
   ],
   "source": [
    "inilist = [\"apple\",\"banana\",\"cherry\"]\n",
    "inilist.insert(2, \"semangka\")\n",
    "print(inilist)"
   ]
  },
  {
   "cell_type": "code",
   "execution_count": 19,
   "id": "adbbe12d",
   "metadata": {},
   "outputs": [
    {
     "name": "stdout",
     "output_type": "stream",
     "text": [
      "['apple', 'banana', 'cherry', 'pear', 'apple', 'banana', 'cherry', 'apple', 'manggo']\n"
     ]
    }
   ],
   "source": [
    "inilist = [\"apple\",\"banana\",\"cherry\"]\n",
    "listbaru =[\"pear\",\"apple\",\"banana\",\"cherry\",\"apple\",\"manggo\"]\n",
    "inilist.extend(listbaru)\n",
    "print(inilist)"
   ]
  },
  {
   "cell_type": "code",
   "execution_count": 21,
   "id": "5d0e2497",
   "metadata": {},
   "outputs": [
    {
     "name": "stdout",
     "output_type": "stream",
     "text": [
      "['apple', 'cherry']\n"
     ]
    }
   ],
   "source": [
    "ist = [\"apple\",\"banana\",\"cherry\"]\n",
    "ist.remove(\"banana\")\n",
    "print(ist)"
   ]
  },
  {
   "cell_type": "code",
   "execution_count": 22,
   "id": "681731cd",
   "metadata": {},
   "outputs": [
    {
     "name": "stdout",
     "output_type": "stream",
     "text": [
      "['apple', 'cherry']\n"
     ]
    }
   ],
   "source": [
    "ist = [\"apple\",\"banana\",\"cherry\"]\n",
    "ist.pop(1)\n",
    "print(ist)"
   ]
  },
  {
   "cell_type": "code",
   "execution_count": 24,
   "id": "eaf303ee",
   "metadata": {},
   "outputs": [
    {
     "name": "stdout",
     "output_type": "stream",
     "text": [
      "banana\n"
     ]
    }
   ],
   "source": [
    "tuple =('apple','banana','cherry')\n",
    "print(tuple[1])"
   ]
  },
  {
   "cell_type": "code",
   "execution_count": 25,
   "id": "b10fca52",
   "metadata": {},
   "outputs": [
    {
     "name": "stdout",
     "output_type": "stream",
     "text": [
      "['banana', 'cherry', 'apple', 'manggo']\n"
     ]
    }
   ],
   "source": [
    "tuple = [\"pear\",\"apple\",\"banana\",\"cherry\",\"apple\",\"manggo\"]\n",
    "print(tuple[2:])"
   ]
  },
  {
   "cell_type": "code",
   "execution_count": 26,
   "id": "dde1587d",
   "metadata": {},
   "outputs": [
    {
     "name": "stdout",
     "output_type": "stream",
     "text": [
      "['apple', 'strawberry', 'cherry']\n"
     ]
    }
   ],
   "source": [
    "ist = [\"apple\",\"banana\",\"cherry\"]\n",
    "ist[1] = \"strawberry\"\n",
    "print(ist)"
   ]
  },
  {
   "cell_type": "code",
   "execution_count": 27,
   "id": "fd612afc",
   "metadata": {},
   "outputs": [
    {
     "ename": "TypeError",
     "evalue": "'list' object is not callable",
     "output_type": "error",
     "traceback": [
      "\u001b[1;31m---------------------------------------------------------------------------\u001b[0m",
      "\u001b[1;31mTypeError\u001b[0m                                 Traceback (most recent call last)",
      "Input \u001b[1;32mIn [27]\u001b[0m, in \u001b[0;36m<cell line: 2>\u001b[1;34m()\u001b[0m\n\u001b[0;32m      1\u001b[0m thistuple \u001b[38;5;241m=\u001b[39m (\u001b[38;5;124m\"\u001b[39m\u001b[38;5;124mapple\u001b[39m\u001b[38;5;124m\"\u001b[39m,\u001b[38;5;124m\"\u001b[39m\u001b[38;5;124mbanana\u001b[39m\u001b[38;5;124m\"\u001b[39m,\u001b[38;5;124m\"\u001b[39m\u001b[38;5;124mcherry\u001b[39m\u001b[38;5;124m\"\u001b[39m)\n\u001b[1;32m----> 2\u001b[0m y\u001b[38;5;241m=\u001b[39m \u001b[38;5;28;43mlist\u001b[39;49m\u001b[43m(\u001b[49m\u001b[43mthistuple\u001b[49m\u001b[43m)\u001b[49m\n\u001b[0;32m      3\u001b[0m y\u001b[38;5;241m.\u001b[39mappend(\u001b[38;5;124m\"\u001b[39m\u001b[38;5;124morange\u001b[39m\u001b[38;5;124m\"\u001b[39m)\n\u001b[0;32m      4\u001b[0m thistuple \u001b[38;5;241m=\u001b[39m \u001b[38;5;28mtuple\u001b[39m(y)\n",
      "\u001b[1;31mTypeError\u001b[0m: 'list' object is not callable"
     ]
    }
   ],
   "source": [
    "thistuple = (\"apple\",\"banana\",\"cherry\")\n",
    "y = list(thistuple)\n",
    "y.append(\"orange\")\n",
    "thistuple = tuple(y)\n",
    "thistuple"
   ]
  },
  {
   "cell_type": "code",
   "execution_count": 28,
   "id": "db9b38c7",
   "metadata": {},
   "outputs": [
    {
     "name": "stdout",
     "output_type": "stream",
     "text": [
      "{'cherry', 'banana', 'apple'}\n"
     ]
    }
   ],
   "source": []
  },
  {
   "cell_type": "code",
   "execution_count": null,
   "id": "c8869123",
   "metadata": {},
   "outputs": [],
   "source": [
    "\n",
    "    \n",
    "\n",
    "\n",
    "\n",
    "\n"
   ]
  },
  {
   "cell_type": "code",
   "execution_count": null,
   "id": "12978a4d",
   "metadata": {},
   "outputs": [],
   "source": []
  }
 ],
 "metadata": {
  "kernelspec": {
   "display_name": "Python 3 (ipykernel)",
   "language": "python",
   "name": "python3"
  },
  "language_info": {
   "codemirror_mode": {
    "name": "ipython",
    "version": 3
   },
   "file_extension": ".py",
   "mimetype": "text/x-python",
   "name": "python",
   "nbconvert_exporter": "python",
   "pygments_lexer": "ipython3",
   "version": "3.9.12"
  }
 },
 "nbformat": 4,
 "nbformat_minor": 5
}
