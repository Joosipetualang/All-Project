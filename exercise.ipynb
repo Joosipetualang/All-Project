{
 "cells": [
  {
   "cell_type": "code",
   "execution_count": 6,
   "id": "d8b18888",
   "metadata": {},
   "outputs": [
    {
     "name": "stdout",
     "output_type": "stream",
     "text": [
      "1\n",
      "1\n",
      "5\n",
      "5\n",
      "6\n",
      "6\n",
      "0\n",
      "odd List :  [1, 5]\n",
      "Even List:  [6]\n"
     ]
    }
   ],
   "source": [
    "evenlist =[]\n",
    "oddlist =[]\n",
    "\n",
    "\n",
    "x =int(input())\n",
    "while(x != 0):\n",
    "    if x%2 ==0:\n",
    "        evenlist.append(x)\n",
    "    else:\n",
    "        oddlist.append(x)\n",
    "        \n",
    "    print(x)\n",
    "    x = int(input())\n",
    "    \n",
    "    \n",
    "print(\"odd List : \", oddlist)\n",
    "print(\"Even List: \", evenlist)\n",
    "     \n",
    "  \n",
    "        \n"
   ]
  },
  {
   "cell_type": "code",
   "execution_count": null,
   "id": "e2629444",
   "metadata": {},
   "outputs": [],
   "source": []
  }
 ],
 "metadata": {
  "kernelspec": {
   "display_name": "Python 3 (ipykernel)",
   "language": "python",
   "name": "python3"
  },
  "language_info": {
   "codemirror_mode": {
    "name": "ipython",
    "version": 3
   },
   "file_extension": ".py",
   "mimetype": "text/x-python",
   "name": "python",
   "nbconvert_exporter": "python",
   "pygments_lexer": "ipython3",
   "version": "3.9.12"
  }
 },
 "nbformat": 4,
 "nbformat_minor": 5
}
